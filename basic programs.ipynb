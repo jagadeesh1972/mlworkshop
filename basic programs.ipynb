{
  "nbformat": 4,
  "nbformat_minor": 0,
  "metadata": {
    "colab": {
      "name": "numpy.ipynb",
      "provenance": [],
      "authorship_tag": "ABX9TyMyJgXLYYvKlFObNBH3bvzY",
      "include_colab_link": true
    },
    "kernelspec": {
      "name": "python3",
      "display_name": "Python 3"
    },
    "language_info": {
      "name": "python"
    }
  },
  "cells": [
    {
      "cell_type": "markdown",
      "metadata": {
        "id": "view-in-github",
        "colab_type": "text"
      },
      "source": [
        "<a href=\"https://colab.research.google.com/github/jagadeesh1972/mlworkshop/blob/main/basic%20programs.ipynb\" target=\"_parent\"><img src=\"https://colab.research.google.com/assets/colab-badge.svg\" alt=\"Open In Colab\"/></a>"
      ]
    },
    {
      "cell_type": "code",
      "execution_count": 3,
      "metadata": {
        "colab": {
          "base_uri": "https://localhost:8080/"
        },
        "id": "gNuWq4hq7LEN",
        "outputId": "2cb8fbaf-a31f-4eae-a367-55271b43a37e"
      },
      "outputs": [
        {
          "output_type": "stream",
          "name": "stdout",
          "text": [
            "Enter the nuumber:29\n",
            "29 is a prime number\n"
          ]
        }
      ],
      "source": [
        "num = int(input(\"Enter the nuumber:\"))\n",
        "flag = False\n",
        "if num > 1:\n",
        "    for i in range(2, num):\n",
        "        if (num % i) == 0:\n",
        "            flag = True\n",
        "            break\n",
        "if flag:\n",
        "    print(num, \"is not a prime number\")\n",
        "else:\n",
        "    print(num, \"is a prime number\")"
      ]
    },
    {
      "cell_type": "code",
      "source": [
        "num = int(input(\"enter the value:\"))\n",
        "factorial = 1\n",
        "if num < 0:\n",
        "   print(\"Sorry, factorial does not exist for negative numbers\")\n",
        "elif num == 0:\n",
        "   print(\"The factorial of 0 is 1\")\n",
        "else:\n",
        "   for i in range(1,num + 1):\n",
        "       factorial = factorial*i\n",
        "   print(\"The factorial of\",num,\"is\",factorial)\n"
      ],
      "metadata": {
        "colab": {
          "base_uri": "https://localhost:8080/"
        },
        "id": "4fcnhRD5B447",
        "outputId": "f2cd741c-e1b4-4677-dbfb-f769c329096f"
      },
      "execution_count": 4,
      "outputs": [
        {
          "output_type": "stream",
          "name": "stdout",
          "text": [
            "enter the value:5\n",
            "The factorial of 5 is 120\n"
          ]
        }
      ]
    },
    {
      "cell_type": "code",
      "source": [
        "def fact(n):\n",
        "    res = 1\n",
        "    for i in range (1, n+1):\n",
        "        res *= i\n",
        "    return res\n",
        "def nPr(n, r):\n",
        "    return fact(n)/fact(n-r)\n",
        "n = int(input(\"Enter the n value: \"))\n",
        "r = int(input(\"Enter the r value: \"))\n",
        "print(\"The nPr value is: \", nPr(n, r))"
      ],
      "metadata": {
        "colab": {
          "base_uri": "https://localhost:8080/"
        },
        "id": "yw_3RaFWB5Lj",
        "outputId": "892546f2-5ca7-434e-8cb9-bea38819e5de"
      },
      "execution_count": 1,
      "outputs": [
        {
          "output_type": "stream",
          "name": "stdout",
          "text": [
            "Enter the n value: 5\n",
            "Enter the r value: 2\n",
            "The nPr value is:  20.0\n"
          ]
        }
      ]
    },
    {
      "cell_type": "code",
      "source": [
        ""
      ],
      "metadata": {
        "id": "Q_tKwGRbB6GL"
      },
      "execution_count": null,
      "outputs": []
    },
    {
      "cell_type": "code",
      "source": [
        "number=input(\"Enter the value\")\n",
        "number = str(number)\n",
        "first_digit = int(number[0])\n",
        "last_digit = int(number[-1])\n",
        "addition = first_digit + last_digit\n",
        "print('Sum of first and last digit is',addition)\n"
      ],
      "metadata": {
        "colab": {
          "base_uri": "https://localhost:8080/"
        },
        "id": "8wlPM8ZJB6O7",
        "outputId": "45a8039c-c6a6-496e-aec4-0172165a4b58"
      },
      "execution_count": 3,
      "outputs": [
        {
          "output_type": "stream",
          "name": "stdout",
          "text": [
            "Enter the value12345\n",
            "Sum of first and last digit is 6\n"
          ]
        }
      ]
    },
    {
      "cell_type": "code",
      "source": [
        ""
      ],
      "metadata": {
        "id": "FEJSog7vB6Xr"
      },
      "execution_count": null,
      "outputs": []
    },
    {
      "cell_type": "code",
      "source": [
        ""
      ],
      "metadata": {
        "id": "0IgH-X3MB6gG"
      },
      "execution_count": null,
      "outputs": []
    }
  ]
}