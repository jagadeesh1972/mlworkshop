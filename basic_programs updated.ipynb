{
  "nbformat": 4,
  "nbformat_minor": 0,
  "metadata": {
    "colab": {
      "name": "basic programs.ipynb",
      "provenance": [],
      "authorship_tag": "ABX9TyPWzXTbKFf84UdLUBXTnrBV",
      "include_colab_link": true
    },
    "kernelspec": {
      "name": "python3",
      "display_name": "Python 3"
    },
    "language_info": {
      "name": "python"
    }
  },
  "cells": [
    {
      "cell_type": "markdown",
      "metadata": {
        "id": "view-in-github",
        "colab_type": "text"
      },
      "source": [
        "<a href=\"https://colab.research.google.com/github/jagadeesh1972/mlworkshop/blob/main/basic_programs%20updated.ipynb\" target=\"_parent\"><img src=\"https://colab.research.google.com/assets/colab-badge.svg\" alt=\"Open In Colab\"/></a>"
      ]
    },
    {
      "cell_type": "code",
      "execution_count": 3,
      "metadata": {
        "colab": {
          "base_uri": "https://localhost:8080/"
        },
        "id": "gNuWq4hq7LEN",
        "outputId": "2cb8fbaf-a31f-4eae-a367-55271b43a37e"
      },
      "outputs": [
        {
          "output_type": "stream",
          "name": "stdout",
          "text": [
            "Enter the nuumber:29\n",
            "29 is a prime number\n"
          ]
        }
      ],
      "source": [
        "num = int(input(\"Enter the nuumber:\"))\n",
        "flag = False\n",
        "if num > 1:\n",
        "    for i in range(2, num):\n",
        "        if (num % i) == 0:\n",
        "            flag = True\n",
        "            break\n",
        "if flag:\n",
        "    print(num, \"is not a prime number\")\n",
        "else:\n",
        "    print(num, \"is a prime number\")"
      ]
    },
    {
      "cell_type": "code",
      "source": [
        "num = int(input(\"enter the value:\"))\n",
        "factorial = 1\n",
        "if num < 0:\n",
        "   print(\"Sorry, factorial does not exist for negative numbers\")\n",
        "elif num == 0:\n",
        "   print(\"The factorial of 0 is 1\")\n",
        "else:\n",
        "   for i in range(1,num + 1):\n",
        "       factorial = factorial*i\n",
        "   print(\"The factorial of\",num,\"is\",factorial)\n"
      ],
      "metadata": {
        "colab": {
          "base_uri": "https://localhost:8080/"
        },
        "id": "4fcnhRD5B447",
        "outputId": "f2cd741c-e1b4-4677-dbfb-f769c329096f"
      },
      "execution_count": 4,
      "outputs": [
        {
          "output_type": "stream",
          "name": "stdout",
          "text": [
            "enter the value:5\n",
            "The factorial of 5 is 120\n"
          ]
        }
      ]
    },
    {
      "cell_type": "code",
      "source": [
        "def fact(n):\n",
        "    res = 1\n",
        "    for i in range (1, n+1):\n",
        "        res *= i\n",
        "    return res\n",
        "def nPr(n, r):\n",
        "    return fact(n)/fact(n-r)\n",
        "n = int(input(\"Enter the n value: \"))\n",
        "r = int(input(\"Enter the r value: \"))\n",
        "print(\"The nPr value is: \", nPr(n, r))"
      ],
      "metadata": {
        "colab": {
          "base_uri": "https://localhost:8080/"
        },
        "id": "yw_3RaFWB5Lj",
        "outputId": "892546f2-5ca7-434e-8cb9-bea38819e5de"
      },
      "execution_count": 1,
      "outputs": [
        {
          "output_type": "stream",
          "name": "stdout",
          "text": [
            "Enter the n value: 5\n",
            "Enter the r value: 2\n",
            "The nPr value is:  20.0\n"
          ]
        }
      ]
    },
    {
      "cell_type": "code",
      "source": [
        "num = int(input(\"Enter a number: \"))\n",
        "sum = 0\n",
        "temp = num\n",
        "while temp > 0:\n",
        "   digit = temp % 10\n",
        "   sum += digit ** 3\n",
        "   temp //= 10\n",
        "if num == sum:\n",
        "   print(num,\"is an Armstrong number\")\n",
        "else:\n",
        "   print(num,\"is not an Armstrong number\")\n"
      ],
      "metadata": {
        "colab": {
          "base_uri": "https://localhost:8080/"
        },
        "id": "Q_tKwGRbB6GL",
        "outputId": "70569649-3e8a-4326-d453-bf1b360cd934"
      },
      "execution_count": 5,
      "outputs": [
        {
          "output_type": "stream",
          "name": "stdout",
          "text": [
            "Enter a number: 123\n",
            "123 is not an Armstrong number\n"
          ]
        }
      ]
    },
    {
      "cell_type": "code",
      "source": [
        "number=input(\"Enter the value\")\n",
        "number = str(number)\n",
        "first_digit = int(number[0])\n",
        "last_digit = int(number[-1])\n",
        "addition = first_digit + last_digit\n",
        "print('Sum of first and last digit is',addition)\n"
      ],
      "metadata": {
        "colab": {
          "base_uri": "https://localhost:8080/"
        },
        "id": "8wlPM8ZJB6O7",
        "outputId": "45a8039c-c6a6-496e-aec4-0172165a4b58"
      },
      "execution_count": 3,
      "outputs": [
        {
          "output_type": "stream",
          "name": "stdout",
          "text": [
            "Enter the value12345\n",
            "Sum of first and last digit is 6\n"
          ]
        }
      ]
    },
    {
      "cell_type": "code",
      "source": [
        "my_str = input(\"enter the input:\")\n",
        "my_str = my_str.casefold()\n",
        "rev_str = reversed(my_str)\n",
        "if list(my_str) == list(rev_str):\n",
        "   print(\"The string is a palindrome.\")\n",
        "else:\n",
        "   print(\"The string is not a palindrome.\")\n"
      ],
      "metadata": {
        "colab": {
          "base_uri": "https://localhost:8080/"
        },
        "id": "FEJSog7vB6Xr",
        "outputId": "72c61769-6b17-400d-e7ae-e49afc27cac8"
      },
      "execution_count": 9,
      "outputs": [
        {
          "output_type": "stream",
          "name": "stdout",
          "text": [
            "enter the input:121\n",
            "The string is a palindrome.\n"
          ]
        }
      ]
    },
    {
      "cell_type": "code",
      "source": [
        "num =int(input(\"enter the value:\"))\n",
        "count = 0\n",
        "while num != 0:\n",
        "    num //= 10\n",
        "    count += 1\n",
        "\n",
        "print(\"Number of digits: \" + str(count))"
      ],
      "metadata": {
        "colab": {
          "base_uri": "https://localhost:8080/"
        },
        "id": "0IgH-X3MB6gG",
        "outputId": "bed6e17a-7613-4ee2-9203-b28f2e5035c4"
      },
      "execution_count": 8,
      "outputs": [
        {
          "output_type": "stream",
          "name": "stdout",
          "text": [
            "enter the value:1234\n",
            "Number of digits: 4\n"
          ]
        }
      ]
    }
  ]
}