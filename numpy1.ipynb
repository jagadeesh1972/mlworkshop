{
  "nbformat": 4,
  "nbformat_minor": 0,
  "metadata": {
    "colab": {
      "name": "numpy1.ipynb",
      "provenance": [],
      "authorship_tag": "ABX9TyNj/emV7edWJc4eKf0mx0vN",
      "include_colab_link": true
    },
    "kernelspec": {
      "name": "python3",
      "display_name": "Python 3"
    },
    "language_info": {
      "name": "python"
    }
  },
  "cells": [
    {
      "cell_type": "markdown",
      "metadata": {
        "id": "view-in-github",
        "colab_type": "text"
      },
      "source": [
        "<a href=\"https://colab.research.google.com/github/jagadeesh1972/mlworkshop/blob/main/numpy1.ipynb\" target=\"_parent\"><img src=\"https://colab.research.google.com/assets/colab-badge.svg\" alt=\"Open In Colab\"/></a>"
      ]
    },
    {
      "cell_type": "markdown",
      "source": [
        ""
      ],
      "metadata": {
        "id": "rrA3LlE6gj3F"
      }
    },
    {
      "cell_type": "code",
      "source": [
        "import numpy as np\n",
        "li=np.array([[1,2,3],[4,5,6]])\n",
        "print(li)"
      ],
      "metadata": {
        "colab": {
          "base_uri": "https://localhost:8080/"
        },
        "id": "ilJgP8rierYe",
        "outputId": "8cfe7eba-3e3a-4ee4-ac5e-969fc8346839"
      },
      "execution_count": 3,
      "outputs": [
        {
          "output_type": "stream",
          "name": "stdout",
          "text": [
            "[[1 2 3]\n",
            " [4 5 6]]\n"
          ]
        }
      ]
    },
    {
      "cell_type": "code",
      "source": [
        ""
      ],
      "metadata": {
        "id": "4bSuSF2OfM2w"
      },
      "execution_count": null,
      "outputs": []
    },
    {
      "cell_type": "code",
      "execution_count": 14,
      "metadata": {
        "colab": {
          "base_uri": "https://localhost:8080/"
        },
        "id": "nCwJMUXgY5fh",
        "outputId": "5fb61138-6057-4438-d5b9-794f6577d002"
      },
      "outputs": [
        {
          "output_type": "stream",
          "name": "stdout",
          "text": [
            "[[ 1  3  5  7]\n",
            " [ 2  4  6  8]\n",
            " [ 9 10 11 12]]\n",
            "(3, 4)\n",
            "[[ 1  3  5  7  2  4]\n",
            " [ 6  8  9 10 11 12]]\n",
            "(2, 6)\n",
            "[[ 1  3  5  7]\n",
            " [ 2  4  6  8]\n",
            " [ 9 10 11 12]]\n",
            "(3, 4)\n",
            "6\n"
          ]
        }
      ],
      "source": [
        "import numpy as np\n",
        "a=np.array([1,3,5,7])\n",
        "b=np.array([2,4,6,8])\n",
        "c=np.array([9,10,11,12])\n",
        "abc=np.array([a,b,c])\n",
        "print(abc)\n",
        "print(abc.shape)\n",
        "n=abc.reshape(2,6)\n",
        "print(n)\n",
        "print(n.shape)\n",
        "n=abc.reshape(3,4)\n",
        "print(n)\n",
        "print(n.shape)\n",
        "print(n[1,2])\n",
        "\n"
      ]
    },
    {
      "cell_type": "code",
      "source": [
        "zeroarray=np.zeros((3,3))\n",
        "print(zeroarray)\n",
        "print(abc[:,1:3:1])"
      ],
      "metadata": {
        "colab": {
          "base_uri": "https://localhost:8080/"
        },
        "id": "KZtKaQYqi0gG",
        "outputId": "ac5bee87-b5a8-4464-e084-673251608bb6"
      },
      "execution_count": 18,
      "outputs": [
        {
          "output_type": "stream",
          "name": "stdout",
          "text": [
            "[[0. 0. 0.]\n",
            " [0. 0. 0.]\n",
            " [0. 0. 0.]]\n",
            "[[ 3  5]\n",
            " [ 4  6]\n",
            " [10 11]]\n"
          ]
        }
      ]
    },
    {
      "cell_type": "code",
      "source": [
        "rep=np.where(abc>5,abc,5)\n",
        "print(rep)"
      ],
      "metadata": {
        "colab": {
          "base_uri": "https://localhost:8080/"
        },
        "id": "QS5uxgUocjTk",
        "outputId": "aa04745e-fc93-423f-e207-5f75d035adeb"
      },
      "execution_count": 21,
      "outputs": [
        {
          "output_type": "stream",
          "name": "stdout",
          "text": [
            "[[ 5  5  5  7]\n",
            " [ 5  5  6  8]\n",
            " [ 9 10 11 12]]\n"
          ]
        }
      ]
    },
    {
      "cell_type": "code",
      "source": [
        "sm=np.array([1,2,3])\n",
        "mod=np.array([4,5,6])\n",
        "sum=np.add(sm,mod)\n",
        "print(sum)"
      ],
      "metadata": {
        "colab": {
          "base_uri": "https://localhost:8080/"
        },
        "id": "bJ3hI3GQj_eM",
        "outputId": "89ef513a-3086-4759-c046-dc9efd4d2cd3"
      },
      "execution_count": 24,
      "outputs": [
        {
          "output_type": "stream",
          "name": "stdout",
          "text": [
            "[5 7 9]\n"
          ]
        }
      ]
    },
    {
      "cell_type": "code",
      "source": [
        "print(np.sum(abc))\n",
        "print(np.cumsum(abc))"
      ],
      "metadata": {
        "colab": {
          "base_uri": "https://localhost:8080/"
        },
        "id": "SVajS9VZmw5-",
        "outputId": "e9315cec-c08b-486c-cf78-9b4afa25660a"
      },
      "execution_count": 26,
      "outputs": [
        {
          "output_type": "stream",
          "name": "stdout",
          "text": [
            "78\n",
            "[ 1  4  9 16 18 22 28 36 45 55 66 78]\n"
          ]
        }
      ]
    },
    {
      "cell_type": "code",
      "source": [
        "a=np.array([1,2,3])\n",
        "b=np.array([3,4,5])\n",
        "c=np.add(a,b)\n",
        "print(np.sum(c))\n",
        "print(np.cumsum(c))"
      ],
      "metadata": {
        "colab": {
          "base_uri": "https://localhost:8080/"
        },
        "id": "PxDIy_1inPdm",
        "outputId": "65b5f3a6-f91b-436c-fabc-f9c9cff654bc"
      },
      "execution_count": 31,
      "outputs": [
        {
          "output_type": "stream",
          "name": "stdout",
          "text": [
            "18\n",
            "[ 4 10 18]\n"
          ]
        }
      ]
    },
    {
      "cell_type": "code",
      "source": [
        "a=np.array([1,2,3])\n",
        "print(np.prod(a))\n",
        "print(np.cumprod(a))"
      ],
      "metadata": {
        "colab": {
          "base_uri": "https://localhost:8080/"
        },
        "id": "7GqqvKB1o5zV",
        "outputId": "85a1f9ab-acfd-460e-e464-0640a9b26820"
      },
      "execution_count": 6,
      "outputs": [
        {
          "output_type": "stream",
          "name": "stdout",
          "text": [
            "6\n",
            "[1 2 6]\n"
          ]
        }
      ]
    },
    {
      "cell_type": "code",
      "source": [
        "a=np.array([1,2,3])\n",
        "b=np.array([3,4,5])\n",
        "print(a+b)\n",
        "print(a-b)\n",
        "print(a*b)\n",
        "print(a/b)"
      ],
      "metadata": {
        "colab": {
          "base_uri": "https://localhost:8080/"
        },
        "id": "JwGYhaUuy0hT",
        "outputId": "1bbc8407-c1b1-444c-aa79-07a843598526"
      },
      "execution_count": 7,
      "outputs": [
        {
          "output_type": "stream",
          "name": "stdout",
          "text": [
            "[4 6 8]\n",
            "[-2 -2 -2]\n",
            "[ 3  8 15]\n",
            "[0.33333333 0.5        0.6       ]\n"
          ]
        }
      ]
    }
  ]
}