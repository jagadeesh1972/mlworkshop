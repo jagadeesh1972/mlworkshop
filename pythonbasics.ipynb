{
  "nbformat": 4,
  "nbformat_minor": 0,
  "metadata": {
    "colab": {
      "name": "pythonbasics.ipynb",
      "provenance": [],
      "authorship_tag": "ABX9TyP2cBuekS7XvUdiwSk+V9Yc",
      "include_colab_link": true
    },
    "kernelspec": {
      "name": "python3",
      "display_name": "Python 3"
    },
    "language_info": {
      "name": "python"
    }
  },
  "cells": [
    {
      "cell_type": "markdown",
      "metadata": {
        "id": "view-in-github",
        "colab_type": "text"
      },
      "source": [
        "<a href=\"https://colab.research.google.com/github/jagadeesh1972/mlworkshop/blob/main/pythonbasics.ipynb\" target=\"_parent\"><img src=\"https://colab.research.google.com/assets/colab-badge.svg\" alt=\"Open In Colab\"/></a>"
      ]
    },
    {
      "cell_type": "code",
      "execution_count": 1,
      "metadata": {
        "colab": {
          "base_uri": "https://localhost:8080/"
        },
        "id": "-NgPW6BYtssg",
        "outputId": "8e9ac4b6-e8e0-41c5-e237-cab18633a588"
      },
      "outputs": [
        {
          "output_type": "stream",
          "name": "stdout",
          "text": [
            "Hi Sathyabma\n"
          ]
        }
      ],
      "source": [
        "print(\"Hi Sathyabma\")"
      ]
    },
    {
      "cell_type": "code",
      "source": [
        "a=int(input(\"Enter the a value:\"))\n",
        "b=int(input(\"Enter the b value:\"))\n",
        "c=a+b\n",
        "d=a-b\n",
        "e=a/b\n",
        "f=a//b\n",
        "g=a*b\n",
        "print(c)\n",
        "print(d)\n",
        "print(e)\n",
        "print(f)\n",
        "print(g)"
      ],
      "metadata": {
        "colab": {
          "base_uri": "https://localhost:8080/"
        },
        "id": "LIjaolZguEly",
        "outputId": "6539a582-5795-455b-fce7-5910a47b4518"
      },
      "execution_count": 12,
      "outputs": [
        {
          "output_type": "stream",
          "name": "stdout",
          "text": [
            "Enter the a value:2\n",
            "Enter the b value:2\n",
            "4\n",
            "0\n",
            "1.0\n",
            "1\n",
            "4\n"
          ]
        }
      ]
    },
    {
      "cell_type": "code",
      "source": [
        "a=3.0\n",
        "b=2\n",
        "print(type(a))\n",
        "print(type(b))\n",
        "a=int(a)\n",
        "b=float(b)\n",
        "print(type(a))\n",
        "print(type(b))"
      ],
      "metadata": {
        "colab": {
          "base_uri": "https://localhost:8080/"
        },
        "id": "DB9w2k__yZYV",
        "outputId": "0ee35f7e-72c0-4775-db70-f691e26e76e6"
      },
      "execution_count": 11,
      "outputs": [
        {
          "output_type": "stream",
          "name": "stdout",
          "text": [
            "<class 'float'>\n",
            "<class 'int'>\n",
            "<class 'int'>\n",
            "<class 'float'>\n"
          ]
        }
      ]
    },
    {
      "cell_type": "code",
      "source": [
        "a=input(\"Enter the a value:\")\n",
        "b=input(\"Enter the b value:\")\n",
        "c=input(\"Enter the c value:\")\n",
        "if(a<b and b<c and a<c):\n",
        "  print(\"TRUE\")\n",
        "if(a<b or b<c or a<c):\n",
        "  print(\"TRUE\")\n",
        "else:\n",
        "  print(\"FALSE\")    "
      ],
      "metadata": {
        "colab": {
          "base_uri": "https://localhost:8080/"
        },
        "id": "OiGgLQH2uhe5",
        "outputId": "bd3d6688-aba0-4347-ae19-25eb497603ec"
      },
      "execution_count": 6,
      "outputs": [
        {
          "output_type": "stream",
          "name": "stdout",
          "text": [
            "Enter the a value:30\n",
            "Enter the b value:20\n",
            "Enter the c value:10\n",
            "FALSE\n"
          ]
        }
      ]
    },
    {
      "cell_type": "code",
      "source": [
        "l=[]\n",
        "n=int(input(\"Enter the n value:\"))\n",
        "for i in range(0,n):\n",
        "  e=input(\"Enter the list values:\")\n",
        "  l.append(e)\n",
        "print(l)\n",
        "print(l[2:])\n",
        "print(l[:3])\n",
        "print(l[0]+l[1]+l[2]+l[3])"
      ],
      "metadata": {
        "colab": {
          "base_uri": "https://localhost:8080/"
        },
        "id": "dFYWmgdIvvp4",
        "outputId": "51b256d6-9353-43be-841f-1ea4f1e22b72"
      },
      "execution_count": 10,
      "outputs": [
        {
          "output_type": "stream",
          "name": "stdout",
          "text": [
            "Enter the n value:4\n",
            "Enter the list values:This\n",
            "Enter the list values:is\n",
            "Enter the list values:python\n",
            "Enter the list values:3\n",
            "['This', 'is', 'python', '3']\n",
            "['python', '3']\n",
            "['This', 'is', 'python']\n",
            "Thisispython3\n"
          ]
        }
      ]
    },
    {
      "cell_type": "code",
      "source": [
        "dict = {'Name': 'John', 'Age': 20, 'sno': '121'}\n",
        "print (\"dict['Name']: \", dict['Name'])\n",
        "print (\"dict['Age']: \", dict['Age'])"
      ],
      "metadata": {
        "colab": {
          "base_uri": "https://localhost:8080/"
        },
        "id": "LTQMkNXlxdIi",
        "outputId": "c40def6d-9af4-4507-e6ea-dbdb998d8730"
      },
      "execution_count": 15,
      "outputs": [
        {
          "output_type": "stream",
          "name": "stdout",
          "text": [
            "dict['Name']:  John\n",
            "dict['Age']:  20\n"
          ]
        }
      ]
    },
    {
      "cell_type": "code",
      "source": [
        "set = {\"10\", \"sonic\", \"jerry\"}\n",
        "print(set)\n",
        "print(len(set))\n",
        "print(type(set))\n"
      ],
      "metadata": {
        "colab": {
          "base_uri": "https://localhost:8080/"
        },
        "id": "9fiO5nmZ8bAd",
        "outputId": "8568cee8-e2bc-4bda-a3dc-bb970d3c6308"
      },
      "execution_count": 25,
      "outputs": [
        {
          "output_type": "stream",
          "name": "stdout",
          "text": [
            "{'jerry', '10', 'sonic'}\n",
            "3\n",
            "<class 'set'>\n"
          ]
        }
      ]
    },
    {
      "cell_type": "code",
      "source": [
        "t=(\"python\",10,\"java\",\"c++\")\n",
        "m=(\"django\",20,\"flask\")\n",
        "print(t)\n",
        "print(t[0])\n",
        "print(t*3)\n",
        "print(t[2:])\n",
        "print(t[:2])\n",
        "print(t+m)\n",
        "print(tuple(t[0]))"
      ],
      "metadata": {
        "colab": {
          "base_uri": "https://localhost:8080/"
        },
        "id": "uCpYoMpM9n7o",
        "outputId": "03b82907-fc5c-43b6-873d-ec0a2aa7e934"
      },
      "execution_count": 21,
      "outputs": [
        {
          "output_type": "stream",
          "name": "stdout",
          "text": [
            "('python', 10, 'java', 'c++')\n",
            "python\n",
            "('python', 10, 'java', 'c++', 'python', 10, 'java', 'c++', 'python', 10, 'java', 'c++')\n",
            "('java', 'c++')\n",
            "('python', 10)\n",
            "('python', 10, 'java', 'c++', 'django', 20, 'flask')\n",
            "('p', 'y', 't', 'h', 'o', 'n')\n"
          ]
        }
      ]
    }
  ]
}